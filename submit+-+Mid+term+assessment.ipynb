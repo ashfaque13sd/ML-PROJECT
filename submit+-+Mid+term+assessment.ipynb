{
 "cells": [
  {
   "cell_type": "markdown",
   "id": "cb778014",
   "metadata": {},
   "source": [
    "**STUDENT ID - 224922785**\n",
    "\n",
    "**STUDENT NAME- MD ASHFAQUE ALAM**\n",
    "\n",
    "**Attempted High Distinction Question: Yes**"
   ]
  },
  {
   "cell_type": "markdown",
   "id": "48683767",
   "metadata": {},
   "source": [
    "# Part 1"
   ]
  },
  {
   "cell_type": "markdown",
   "id": "55455f28",
   "metadata": {},
   "source": [
    "### Question 1.1 \n",
    "\n",
    "**Write a method “is_divisible” that takes two integers, m and n. The method returns True if m is divisible \n",
    "by n, and returns False otherwise. Give three test cases for this function and three test cases should \n",
    "include cases that return values on True and False. Be sure to test your function well, including at least \n",
    "three test cases.**\n",
    "\n",
    "**Answer 1.1**"
   ]
  },
  {
   "cell_type": "code",
   "execution_count": 1,
   "id": "476355b8",
   "metadata": {},
   "outputs": [],
   "source": [
    "def is_divisible():\n",
    "    \"\"\"\n",
    "    Checks if m is divisible by n.\n",
    "    Returns True if divisible, False otherwise.\n",
    "    \"\"\"\n",
    "    m = int(input('Enter first integer number: '))\n",
    "    n = int(input('Enter second integer number: '))\n",
    "    if (n==0):\n",
    "        print('false')\n",
    "    elif (m % n ==0):\n",
    "        print('True')\n",
    "    else:\n",
    "        print('false')"
   ]
  },
  {
   "cell_type": "code",
   "execution_count": 2,
   "id": "9f355c4d",
   "metadata": {},
   "outputs": [
    {
     "name": "stdout",
     "output_type": "stream",
     "text": [
      "Enter first integer number: 122\n",
      "Enter second integer number: 6\n",
      "false\n"
     ]
    }
   ],
   "source": [
    "is_divisible()"
   ]
  },
  {
   "cell_type": "code",
   "execution_count": 3,
   "id": "259f7d73",
   "metadata": {},
   "outputs": [
    {
     "name": "stdout",
     "output_type": "stream",
     "text": [
      "Enter first integer number: 245\n",
      "Enter second integer number: 12\n",
      "false\n"
     ]
    }
   ],
   "source": [
    "is_divisible()"
   ]
  },
  {
   "cell_type": "code",
   "execution_count": 4,
   "id": "0cd6b994",
   "metadata": {},
   "outputs": [
    {
     "name": "stdout",
     "output_type": "stream",
     "text": [
      "Enter first integer number: 123\n",
      "Enter second integer number: 9\n",
      "false\n"
     ]
    }
   ],
   "source": [
    "is_divisible()"
   ]
  },
  {
   "cell_type": "markdown",
   "id": "05773881",
   "metadata": {},
   "source": [
    "### Question 1.2\n",
    "\n",
    "**Imagine that Python does not have the != operator built in. Write a method “not_equal” that takes two variables(any variable type) and gives the same result as the != operator. Obviously, you cannot use != within your function! Test if your code works by thinking of examples and making sure the output is the same for your new method as != gives you. Be sure to test your function well, including at least 3 test cases.** \n",
    "\n",
    "**Answer 1.2**"
   ]
  },
  {
   "cell_type": "code",
   "execution_count": 5,
   "id": "7d2b6703",
   "metadata": {},
   "outputs": [],
   "source": [
    "def not_equal(v1,v2):\n",
    "    \"\"\"\n",
    "    Custom implementation of the '!=' operator.\n",
    "    Returns True if a and b are not equal, False otherwise.\n",
    "    \"\"\"\n",
    "    if (v1 == v2):\n",
    "        print('False')\n",
    "    else:\n",
    "        print('True')"
   ]
  },
  {
   "cell_type": "code",
   "execution_count": 6,
   "id": "65d78e05",
   "metadata": {},
   "outputs": [
    {
     "name": "stdout",
     "output_type": "stream",
     "text": [
      "True\n"
     ]
    }
   ],
   "source": [
    "not_equal(115,161)"
   ]
  },
  {
   "cell_type": "code",
   "execution_count": 7,
   "id": "730db7ba",
   "metadata": {},
   "outputs": [
    {
     "name": "stdout",
     "output_type": "stream",
     "text": [
      "False\n"
     ]
    }
   ],
   "source": [
    "not_equal('abc','abc')"
   ]
  },
  {
   "cell_type": "code",
   "execution_count": 8,
   "id": "c51227aa",
   "metadata": {},
   "outputs": [
    {
     "name": "stdout",
     "output_type": "stream",
     "text": [
      "True\n"
     ]
    }
   ],
   "source": [
    "l1 = [1,2,3]\n",
    "l2 = [2,3,4]\n",
    "not_equal(l1,l2)"
   ]
  },
  {
   "cell_type": "markdown",
   "id": "55447c79",
   "metadata": {},
   "source": [
    "### Question 1.3\n",
    "\n",
    "**List Comprehensions, you will need to perform and understand list comprehensions programming in below two small tasks.** \n",
    "\n",
    "**1.Write a list comprehension that prints out the possible results of three coin flips (how many results should be there?)**\n",
    "\n",
    "\n",
    "**Answer 1.3 (1)**"
   ]
  },
  {
   "cell_type": "code",
   "execution_count": 9,
   "id": "13f16625",
   "metadata": {},
   "outputs": [
    {
     "data": {
      "text/plain": [
       "['Heads Heads Heads ',\n",
       " 'Heads Heads Tails ',\n",
       " 'Heads Tails Heads ',\n",
       " 'Heads Tails Tails ',\n",
       " 'Tails Heads Heads ',\n",
       " 'Tails Heads Tails ',\n",
       " 'Tails Tails Heads ',\n",
       " 'Tails Tails Tails ']"
      ]
     },
     "execution_count": 9,
     "metadata": {},
     "output_type": "execute_result"
    }
   ],
   "source": [
    "# List comprehension for three coin flips\n",
    "coin_results = [result1 + result2 + result3 for result1 in [\"Heads \", \"Tails \"] for result2 \n",
    "                in [\"Heads \", \"Tails \"] for result3 in [\"Heads \", \"Tails \"]]\n",
    "\"\"\"\n",
    "each flip outcome=(Head,Tail), three flips 2x2x2=8,result1 iterate through first loop and store the\n",
    "results same thing happen in result2 and result3 also, then we add it to find unique combination of\n",
    "it and store unique combination of all three coins outcomes in coin_results variable.\n",
    "\"\"\"\n",
    "coin_results"
   ]
  },
  {
   "cell_type": "markdown",
   "id": "4f9cbcb1",
   "metadata": {},
   "source": [
    "#### 2.Run this list comprehension in your notebook: [x+y for x in [10,20,30] for y in [1,2,3]]. Figure out what is going on here, and write a nested for loop that gives you the same result. \n",
    "\n",
    "\n",
    "**Answer 1.3 (2)**"
   ]
  },
  {
   "cell_type": "markdown",
   "id": "bc034ddd",
   "metadata": {},
   "source": []
  },
  {
   "cell_type": "code",
   "execution_count": 10,
   "id": "54b4d280",
   "metadata": {},
   "outputs": [
    {
     "data": {
      "text/plain": [
       "[11, 12, 13, 21, 22, 23, 31, 32, 33]"
      ]
     },
     "execution_count": 10,
     "metadata": {},
     "output_type": "execute_result"
    }
   ],
   "source": [
    "[x+y for x in [10,20,30] for y in [1,2,3]]\n"
   ]
  },
  {
   "cell_type": "code",
   "execution_count": 11,
   "id": "e755ad68",
   "metadata": {},
   "outputs": [
    {
     "name": "stdout",
     "output_type": "stream",
     "text": [
      "[11, 12, 13, 21, 22, 23, 31, 32, 33]\n"
     ]
    }
   ],
   "source": [
    "nested_result = []\n",
    "\"\"\"\n",
    "Understanding [x+y for x in [10,20,30] for y in [1,2,3]]: This list comprehension combines elements\n",
    "from two lists: [10, 20, 30] and [1, 2, 3]. It computes the sum of each pair of corresponding\n",
    "elements from these lists. Let’s break it down:\n",
    "For each value of x (which takes on the values 10, 20, and 30), we iterate over the values of y\n",
    "(which takes on the values 1, 2, and 3).\n",
    "For each combination of x and y, we calculate x + y.The result is a new list containing the sums\n",
    "of these pairs: [11, 12, 13, 21, 22, 23, 31, 32, 33].Nested For Loop Equivalent: We can achieve\n",
    "the same result using a nested for loop:\n",
    "\"\"\"\n",
    "for x in [10, 20, 30]:\n",
    "    for y in [1, 2, 3]:\n",
    "        nested_result.append(x + y)\n",
    "print(nested_result)\n"
   ]
  },
  {
   "cell_type": "markdown",
   "id": "bee8402d",
   "metadata": {},
   "source": [
    "### Question 1.4 \n",
    "\n",
    "**Write a function ”find_digits” that takes in a string and uses a list comprehension to return all the int digits in the string if any (assuming string only contain digits from 0 to 9). Be sure to test your function well, including at least 3 test cases.** \n",
    "\n",
    "\n",
    "**Answer 1.4**"
   ]
  },
  {
   "cell_type": "code",
   "execution_count": 12,
   "id": "02eeab7c",
   "metadata": {},
   "outputs": [
    {
     "name": "stdout",
     "output_type": "stream",
     "text": [
      "[1, 2, 3]\n",
      "[8, 0, 3, 2]\n",
      "[]\n"
     ]
    }
   ],
   "source": [
    "def find_digits(input_string):\n",
    "    \"\"\"\n",
    "    Explanation:The isdigit() method checks if a character is a digit (0-9).\n",
    "    The list comprehension iterates through each character in the input string \n",
    "    and includes it in the result list if it’s a digit.\n",
    "    \"\"\"\n",
    "    return [int(char) for char in input_string if char.isdigit()]\n",
    "\n",
    "# 3 Test cases:\n",
    "print(find_digits(\"Ashfaque123\"))  \n",
    "print(find_digits(\"my number start from 80 and end on 32\")) \n",
    "print(find_digits(\"My name is Khan.\"))"
   ]
  },
  {
   "cell_type": "markdown",
   "id": "4c9a391e",
   "metadata": {},
   "source": [
    "### Question 1.5 \n",
    "\n",
    "**Write a list comprehension which solves the equation y = 2x^2 − 1 like Figure 2. Your solution should print out a list of [x, y] pairs; use the domain x ∈ [−3, 3] and the range y ∈ [0, 30]. x and y are all integers and you could use range for simulation on the x and y.**\n",
    "\n",
    "\n",
    "**Answer 1.5**"
   ]
  },
  {
   "cell_type": "code",
   "execution_count": 13,
   "id": "a0d2b189",
   "metadata": {},
   "outputs": [
    {
     "data": {
      "text/plain": [
       "[(-3, 17), (-2, 7), (-1, 1), (1, 1), (2, 7), (3, 17)]"
      ]
     },
     "execution_count": 13,
     "metadata": {},
     "output_type": "execute_result"
    }
   ],
   "source": [
    "# Generate [x, y] pairs for y = 2x^2 - 1\n",
    "pairs = [[x, 2*x**2 - 1] for x in range(-3, 4)]\n",
    "\"\"\"\n",
    "\n",
    "List Comprehension: The code uses a list comprehension to generate a list of ([x, y]) pairs. \n",
    "Range: range(-3, 4) generates a sequence of integers from (-3) to (3) (inclusive).\n",
    "This is the domain for (x).\n",
    "Equation: For each (x) in the range, the expression 2*x**2 - 1 calculates the corresponding (y) \n",
    "value using the equation ( y = 2x^2 - 1 ).\n",
    "Condition: The condition if 0 <= 2*x**2 - 1 <= 30 ensures that only the ([x, y]) pairs where ( y )\n",
    "is within the range ([0, 30]) are included in the final list.\n",
    "Output: The print(filtered_pairs) statement prints the resulting list of ([x, y]) pairs.\n",
    "\"\"\"\n",
    "\n",
    "# Filter out pairs where y is outside the specified range [0, 30]\n",
    "filtered_pairs = [(x, y) for x, y in pairs if 0 <= y <= 30]\n",
    "filtered_pairs"
   ]
  },
  {
   "cell_type": "markdown",
   "id": "87dbf8b0",
   "metadata": {},
   "source": [
    "another way"
   ]
  },
  {
   "cell_type": "code",
   "execution_count": 14,
   "id": "f59ccc8c",
   "metadata": {},
   "outputs": [
    {
     "name": "stdout",
     "output_type": "stream",
     "text": [
      "[[-3, 17], [-2, 7], [-1, 1], [1, 1], [2, 7], [3, 17]]\n"
     ]
    }
   ],
   "source": [
    "second_way_of_getting_answer = [[x, 2*x**2 - 1] for x in range(-3, 4) if 0 <= 2*x**2 - 1 <= 30]\n",
    "print(second_way_of_getting_answer)\n"
   ]
  },
  {
   "cell_type": "code",
   "execution_count": 15,
   "id": "d6002f6b",
   "metadata": {},
   "outputs": [
    {
     "data": {
      "text/plain": [
       "[[-3, 17], [-2, 7], [-1, 1], [0, -1], [1, 1], [2, 7], [3, 17]]"
      ]
     },
     "execution_count": 15,
     "metadata": {},
     "output_type": "execute_result"
    }
   ],
   "source": [
    "pairs"
   ]
  },
  {
   "cell_type": "markdown",
   "id": "1363ed2e",
   "metadata": {},
   "source": [
    "see both above code (0,-1) pair not included because in a range of y (0 to 30) -1 does not come.we filter out only those pairs whose y value comes under a  range of 0 to 30.  "
   ]
  },
  {
   "cell_type": "markdown",
   "id": "6a439f21",
   "metadata": {},
   "source": [
    "### Question 1.6\n",
    "\n",
    "\n",
    "**Collision Detection of Balls:\n",
    "For calculating collision, we only care about a ball’s position in space, as well as its size. We can\n",
    "store a ball’s position with the (x, y) coordinates of its center point, and we can calculate its size if\n",
    "we know its radius r. Thus, we represent a ball in 2D space as a tuple of (x, y, r). To figure out if two\n",
    "balls are colliding, we need to compute the distance between their centers, then see if this distance is\n",
    "less than or equal to the sum of their radius. If so, they are colliding. Please define a function with\n",
    "two list as inputs (two balls’ position and radius [x,y,r]), test your function with three different cases.**\n",
    "\n",
    "**Answer 1.6**"
   ]
  },
  {
   "cell_type": "code",
   "execution_count": 16,
   "id": "bcd27299",
   "metadata": {},
   "outputs": [
    {
     "name": "stdout",
     "output_type": "stream",
     "text": [
      "True\n",
      "False\n",
      "True\n"
     ]
    }
   ],
   "source": [
    "import math\n",
    "\n",
    "def balls_are_colliding(ball1, ball2):\n",
    "    \"\"\"\n",
    "Explanation:\n",
    "Importing math module: We import the math module to use the sqrt function for calculating the\n",
    "distance.\n",
    "Function Definition: The function balls_are_colliding takes two lists as inputs, each representing\n",
    "a ball’s position and radius ([x, y, r]).\n",
    "Extracting Coordinates and Radius: We extract the (x), (y) coordinates and radius (r) for both\n",
    "balls.\n",
    "Calculating Distance: We calculate the distance between the centers of the two balls using the \n",
    "Euclidean distance formula.\n",
    "Collision Check: We check if the calculated distance is less than or equal to the sum of the radius\n",
    "of the two balls. If it is, the balls are colliding.\n",
    "\n",
    "Test Cases:\n",
    "Case 1: ball1 and ball2 are colliding because the distance between their centers is 7,\n",
    "which is less than the sum of their radius (10).\n",
    "Case 2: ball1 and ball3 are not colliding because the distance between their centers is 10,\n",
    "which is equal to the sum of their radii (10).\n",
    "Case 3: ball1 and ball4 are colliding because the distance between their centers is 5,\n",
    "which is less than the sum of their radii (7).\n",
    "    \"\"\"\n",
    "    # Extract the coordinates and radius of the balls\n",
    "    x1, y1, r1 = ball1\n",
    "    x2, y2, r2 = ball2\n",
    "    \n",
    "    # Calculate the distance between the centers of the two balls\n",
    "    distance = math.sqrt((x2 - x1)**2 + (y2 - y1)**2)\n",
    "    \n",
    "    # Check if the distance is less than or equal to the sum of the radii\n",
    "    return distance <= (r1 + r2)\n",
    "\n",
    "# Test cases\n",
    "ball1 = [5, 5, 5]\n",
    "ball2 = [7, 6, 5]\n",
    "ball3 = [10, 48, 8]\n",
    "ball4 = [3, 4, 2]\n",
    "\n",
    "print(balls_are_colliding(ball1, ball2))  # True, as the distance is 2.23 and sum of radius is 10\n",
    "print(balls_are_colliding(ball1, ball3))  # False, as the distance is 43.28 and sum of radius is 13\n",
    "print(balls_are_colliding(ball1, ball4))  # True, as the distance is 2.23 and sum of radius is 7\n"
   ]
  },
  {
   "cell_type": "markdown",
   "id": "4d7da211",
   "metadata": {},
   "source": [
    "### Question 1.7\n",
    "\n",
    "**Scoring the words A set of score is given to you as below according to each English letters: \n",
    "Please finish the “get_word_score” function for returning the correct word score (condition is given\n",
    "from function comments). The necessary library is given to you for importing (not other libraries\n",
    "should be used). Test with “Australia”, “Deakin” and your name for three cases.**\n",
    "\n",
    "**Answer 1.7**"
   ]
  },
  {
   "cell_type": "code",
   "execution_count": 17,
   "id": "9f61a872",
   "metadata": {},
   "outputs": [
    {
     "name": "stdout",
     "output_type": "stream",
     "text": [
      "Score for 'Australia': 270\n",
      "Score for 'Deakin': 16\n",
      "Score for your name: 480\n"
     ]
    }
   ],
   "source": [
    "LETTER_VALUES = {'a': 1, 'b': 1, 'c': 5, 'd': 6, 'e': 1, 'f': 4, 'g': 2, 'h': 4, 'i': 1, 'j': 8,\n",
    "                 'k': 6, 'l': 1, 'm': 4, 'n': 1, 'o': 1, 'p': 3, 'q': 11, 'r': 1, 's': 1, 't': 1,\n",
    "                 'u': 1, 'v': 5, 'w': 4, 'x': 8, 'y': 6, 'z': 10, ' ': 100}\n",
    "\n",
    "def get_word_score(word):\n",
    "    \"\"\"\n",
    " Returns the score for a word.Assumes the word is a valid word.\n",
    " you may assume that the input word is always either a string of letters,and can not be the empty\n",
    " string.\n",
    " you may not assume that the string will only contain lower case letters, so you will have to \n",
    " handle uppercase and mixed case strings appropriately.\n",
    " the score for a word is the product of two components:\n",
    " the first component is the sum of the points for letters in the word.\n",
    " the second component is the larger of 1 or 7*wordlen - 3*(20-wordlen) where wordlen is the length of the word letters are scored as in LETTER_VALUES.\n",
    " word : string\n",
    " returns : int >=0 \n",
    "    \"\"\"\n",
    "    # Convert the word to lowercase to handle uppercase and mixed case strings\n",
    "    word = word.lower()\n",
    "    \n",
    "    # Calculate the first component: sum of the points for letters in the word\n",
    "    first_component = sum(LETTER_VALUES[char] for char in word)\n",
    "    \n",
    "    # Calculate the second component\n",
    "    wordlen = len(word)\n",
    "    second_component = max(1, 7 * wordlen - 3 * (20 - wordlen))\n",
    "    \n",
    "    # Calculate the total score\n",
    "    total_score = first_component * second_component\n",
    "    \n",
    "    return total_score\n",
    "\n",
    "# Test cases\n",
    "print(\"Score for 'Australia':\", get_word_score(\"Australia\"))\n",
    "print(\"Score for 'Deakin':\", get_word_score(\"Deakin\"))\n",
    "print(\"Score for your name:\", get_word_score(\"Ashfaque\"))  \n",
    "    "
   ]
  },
  {
   "cell_type": "markdown",
   "id": "9e877836",
   "metadata": {},
   "source": [
    "### Question 1.8\n",
    "\n",
    "**Could you please use loop(s) with string character “*” to print as below Figure 3?**\n",
    "\n",
    "**Answer 1.8**"
   ]
  },
  {
   "cell_type": "code",
   "execution_count": 18,
   "id": "baa96e38",
   "metadata": {
    "code_folding": []
   },
   "outputs": [
    {
     "name": "stdout",
     "output_type": "stream",
     "text": [
      "          \n",
      "        * \n",
      "      * * \n",
      "    * * * \n",
      "  * * * * \n",
      "* * * * * \n",
      "  * * * * \n",
      "    * * * \n",
      "      * * \n",
      "        * \n",
      "          \n"
     ]
    }
   ],
   "source": [
    "# Number of rows\n",
    "rows = 6\n",
    "\n",
    "    # upper half of the triangle\n",
    "for i in range(1, rows + 1):\n",
    "    \"\"\"\n",
    "Outer loop (for i in range(1, rows + 1)): This loop runs from 1 to rows (inclusive),\n",
    "controlling the number of rows in the upper half of the triangle.\n",
    "First inner loop (for j in range(rows - i)): This loop prints spaces. The number of spaces \n",
    "decreases as i increases, creating the left-aligned triangle shape.\n",
    "Second inner loop (for k in range(1 * i - 1)): This loop prints stars (*). The number of\n",
    "stars increases as i increases.\n",
    "print() statement: Moves to the next line after each row.\n",
    "    \"\"\"\n",
    "    # Inner loop for spaces\n",
    "    for j in range(rows - i):\n",
    "        print(\" \", end=\" \")\n",
    "    # Inner loop for stars\n",
    "    for k in range(1 * i - 1):\n",
    "        print(\"*\", end=\" \")\n",
    "    # Move to the next line after each row\n",
    "    print()\n",
    "    \n",
    "    # Lower half of the triangle\n",
    "for i in range(rows - 1, 0, -1):\n",
    "    # Inner loop for spaces\n",
    "    for j in range(rows - i):\n",
    "        print(\" \", end=\" \")\n",
    "    # Inner loop for stars\n",
    "    for k in range(1 * i - 1):\n",
    "        print(\"*\", end=\" \")\n",
    "    # Move to the next line after each row\n",
    "    print()\n"
   ]
  },
  {
   "cell_type": "markdown",
   "id": "b6457f06",
   "metadata": {},
   "source": [
    "**........................................................................................**"
   ]
  },
  {
   "cell_type": "markdown",
   "id": "efe58803",
   "metadata": {},
   "source": [
    "# Part 2"
   ]
  },
  {
   "cell_type": "markdown",
   "id": "eda2e297",
   "metadata": {},
   "source": [
    "**Which question for you?**"
   ]
  },
  {
   "cell_type": "code",
   "execution_count": 19,
   "id": "ec384370",
   "metadata": {},
   "outputs": [
    {
     "name": "stdout",
     "output_type": "stream",
     "text": [
      "Correct version of Q2 for me is :\n",
      "version II\n"
     ]
    }
   ],
   "source": [
    "def sum_digits(n):\n",
    "    r = 0\n",
    "    while n:\n",
    "        r, n = r + n % 10, n//10\n",
    "    return r\n",
    "def check_studentid(studentid):\n",
    "    x = sum_digits(studentid)\n",
    "    if x % 2 == 0:\n",
    "        print('version I')\n",
    "    else:\n",
    "        print('version II')\n",
    "\n",
    "print('Correct version of Q2 for me is :')\n",
    "check_studentid(224922785)"
   ]
  },
  {
   "cell_type": "markdown",
   "id": "86b62f44",
   "metadata": {},
   "source": [
    "## Version II"
   ]
  },
  {
   "cell_type": "markdown",
   "id": "0489b1db",
   "metadata": {},
   "source": [
    "### Question 2.1: Fixed Annual Salary\n",
    "\n",
    "**Here’s a Python program to calculate the number of months needed to save for the down payment with a fixed annual salary:**\n",
    "\n",
    "**Answer 2.1**"
   ]
  },
  {
   "cell_type": "code",
   "execution_count": 22,
   "id": "c92abbf7",
   "metadata": {},
   "outputs": [
    {
     "name": "stdout",
     "output_type": "stream",
     "text": [
      "Enter your starting annual salary: 1200000\n",
      "Enter the portion of salary to be saved (as a decimal): 0.2\n",
      "Enter the cost of your dream home: 6000000\n",
      "Number of months needed to save for the down payment: 42\n"
     ]
    }
   ],
   "source": [
    "def calculate_months_to_save(annual_salary, portion_saved, total_cost):\n",
    "    \"\"\"\n",
    "Explanation\n",
    "Initialize Variables:\n",
    "portion_down_payment: The percentage of the total cost needed for the down payment (15%).\n",
    "current_savings: Initial savings, starting at 0.\n",
    "r: Annual return rate (4%).\n",
    "monthly_salary: Monthly salary calculated from the annual salary.\n",
    "down_payment: The amount needed for the down payment.\n",
    "months: Counter for the number of months.\n",
    "    \n",
    "Loop Until Savings Reach Down Payment:\n",
    "Calculate the monthly return on current savings.\n",
    "Calculate the monthly savings from the salary.\n",
    "Update the current savings by adding the monthly return and monthly savings.\n",
    "Increment the month counter.\n",
    "\n",
    "Return the Number of Months:\n",
    "The loop continues until the current savings reach or exceed the down payment.\n",
    "The function returns the number of months needed to save.\n",
    "\"\"\"\n",
    "    portion_down_payment = 0.15  # 15% of the total cost\n",
    "    current_savings = 0  # Initial savings\n",
    "    r = 0.04  # Annual return rate\n",
    "    monthly_salary = annual_salary / 12  # Monthly salary\n",
    "    down_payment = total_cost * portion_down_payment  # Required down payment\n",
    "    months = 0  # Counter for months\n",
    "\n",
    "    while current_savings < down_payment:\n",
    "        # Calculate monthly return on current savings\n",
    "        monthly_return = current_savings * r / 12\n",
    "        \n",
    "        # Calculate monthly savings from salary\n",
    "        monthly_savings = monthly_salary * portion_saved\n",
    "        \n",
    "        # Update current savings\n",
    "        current_savings += monthly_return + monthly_savings\n",
    "        \n",
    "        # Increment the month counter\n",
    "        months += 1\n",
    "\n",
    "    return months\n",
    "                        \n",
    "# Get user input\n",
    "annual_salary = float(input(\"Enter your starting annual salary: \"))\n",
    "portion_saved = float(input(\"Enter the portion of salary to be saved (as a decimal): \"))\n",
    "total_cost = float(input(\"Enter the cost of your dream home: \"))\n",
    "\n",
    "# Calculate and print the number of months needed to save\n",
    "months_needed = calculate_months_to_save(annual_salary, portion_saved, total_cost)\n",
    "print(f\"Number of months needed to save for the down payment: {months_needed}\")\n"
   ]
  },
  {
   "cell_type": "markdown",
   "id": "a8d3f727",
   "metadata": {},
   "source": [
    "### Question 2.2: Annual Salary Raise\n",
    "\n",
    "**Now, let’s modify the program to factor in an annual salary raise:**\n",
    "\n",
    "**Answer 2.2**"
   ]
  },
  {
   "cell_type": "code",
   "execution_count": 23,
   "id": "b81c0f0e",
   "metadata": {},
   "outputs": [
    {
     "name": "stdout",
     "output_type": "stream",
     "text": [
      "Enter your starting annual salary: 1200000\n",
      "Enter the portion of salary to be saved (as a decimal): 0.2\n",
      "Enter the cost of your dream home: 6000000\n",
      "Enter the annual salary raise (as a decimal): 0.1\n",
      "Number of months needed to save for the down payment: 39\n"
     ]
    }
   ],
   "source": [
    "def calculate_months_to_save_with_raise(annual_salary, portion_saved, total_cost, annual_raise):\n",
    "    \"\"\"\n",
    "    Explanation\n",
    "Initialize Variables:\n",
    "Same as in Question 2.1.\n",
    "\n",
    "Loop Until Savings Reach Down Payment:\n",
    "Same as in Question 2.1.\n",
    "\n",
    "Apply Annual Raise:\n",
    "Every 12 months, increase the annual salary by the annual raise percentage.\n",
    "Update the monthly salary accordingly.\n",
    "\n",
    "Return the Number of Months:\n",
    "The loop continues until the current savings reach or exceed the down payment.\n",
    "The function returns the number of months needed to save.\n",
    "    \"\"\"\n",
    "    portion_down_payment = 0.15  # 15% of the total cost\n",
    "    current_savings = 0  # Initial savings\n",
    "    r = 0.04  # Annual return rate\n",
    "    monthly_salary = annual_salary / 12  # Monthly salary\n",
    "    down_payment = total_cost * portion_down_payment  # Required down payment\n",
    "    months = 0  # Counter for months\n",
    "\n",
    "    while current_savings < down_payment:\n",
    "        # Calculate monthly return on current savings\n",
    "        monthly_return = current_savings * r / 12\n",
    "        \n",
    "        # Calculate monthly savings from salary\n",
    "        monthly_savings = monthly_salary * portion_saved\n",
    "        \n",
    "        # Update current savings\n",
    "        current_savings += monthly_return + monthly_savings\n",
    "        \n",
    "        # Increment the month counter\n",
    "        months += 1\n",
    "        \n",
    "        # Apply raise every 12 months\n",
    "        if months % 12 == 0:\n",
    "            annual_salary += annual_salary * annual_raise\n",
    "            monthly_salary = annual_salary / 12\n",
    "\n",
    "    return months\n",
    "\n",
    "# Get user input\n",
    "annual_salary = float(input(\"Enter your starting annual salary: \"))\n",
    "portion_saved = float(input(\"Enter the portion of salary to be saved (as a decimal): \"))\n",
    "total_cost = float(input(\"Enter the cost of your dream home: \"))\n",
    "annual_raise = float(input(\"Enter the annual salary raise (as a decimal): \"))\n",
    "\n",
    "# Calculate and print the number of months needed to save\n",
    "months_needed = calculate_months_to_save_with_raise(annual_salary, portion_saved, total_cost, annual_raise)\n",
    "print(f\"Number of months needed to save for the down payment: {months_needed}\")\n"
   ]
  },
  {
   "cell_type": "markdown",
   "id": "d37ffc84",
   "metadata": {},
   "source": [
    "## END"
   ]
  }
 ],
 "metadata": {
  "hide_input": false,
  "kernelspec": {
   "display_name": "Python 3 (ipykernel)",
   "language": "python",
   "name": "python3"
  },
  "language_info": {
   "codemirror_mode": {
    "name": "ipython",
    "version": 3
   },
   "file_extension": ".py",
   "mimetype": "text/x-python",
   "name": "python",
   "nbconvert_exporter": "python",
   "pygments_lexer": "ipython3",
   "version": "3.11.7"
  },
  "toc": {
   "base_numbering": 1,
   "nav_menu": {},
   "number_sections": true,
   "sideBar": true,
   "skip_h1_title": false,
   "title_cell": "Table of Contents",
   "title_sidebar": "Contents",
   "toc_cell": false,
   "toc_position": {},
   "toc_section_display": true,
   "toc_window_display": false
  },
  "varInspector": {
   "cols": {
    "lenName": 16,
    "lenType": 16,
    "lenVar": 40
   },
   "kernels_config": {
    "python": {
     "delete_cmd_postfix": "",
     "delete_cmd_prefix": "del ",
     "library": "var_list.py",
     "varRefreshCmd": "print(var_dic_list())"
    },
    "r": {
     "delete_cmd_postfix": ") ",
     "delete_cmd_prefix": "rm(",
     "library": "var_list.r",
     "varRefreshCmd": "cat(var_dic_list()) "
    }
   },
   "types_to_exclude": [
    "module",
    "function",
    "builtin_function_or_method",
    "instance",
    "_Feature"
   ],
   "window_display": false
  },
  "widgets": {
   "application/vnd.jupyter.widget-state+json": {
    "state": {},
    "version_major": 2,
    "version_minor": 0
   }
  }
 },
 "nbformat": 4,
 "nbformat_minor": 5
}
